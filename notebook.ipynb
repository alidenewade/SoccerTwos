{
 "cells": [
  {
   "cell_type": "code",
   "execution_count": 1,
   "metadata": {},
   "outputs": [],
   "source": [
    "import os\n",
    "import subprocess\n",
    "import threading"
   ]
  },
  {
   "cell_type": "code",
   "execution_count": 2,
   "metadata": {},
   "outputs": [],
   "source": [
    "!chmod +x /root/hfRL/ml/unit7_colab_mod/HuggingFace/SoccerTwos/SoccerTwos.x86_64"
   ]
  },
  {
   "cell_type": "code",
   "execution_count": 3,
   "metadata": {},
   "outputs": [],
   "source": [
    "# Define paths for WSL environment\n",
    "results_dir = \"/root/hfRL/ml/unit7_colab_mod/HuggingFace/SoccerTwos/results\"\n",
    "log_dir = os.path.join(results_dir, \"SoccerTwos\")  # Updated log directory for mlagents\n",
    "env_path = \"/root/hfRL/ml/unit7_colab_mod/HuggingFace/SoccerTwos/SoccerTwos.x86_64\"  # Path to the executable\n",
    "config_file = \"/root/hfRL/ml/unit7_colab_mod/HuggingFace/SoccerTwos/SoccerTwos.yaml\"  # Path to the config file\n",
    "output_log = os.path.join(results_dir, \"mlagents_output.log\")  # Output log file path\n",
    "\n",
    "# Function to run mlagents-learn and redirect output to a log file\n",
    "def run_mlagents():\n",
    "    command = [\n",
    "        \"mlagents-learn\",\n",
    "        config_file,\n",
    "        f\"--env={env_path}\",\n",
    "        \"--run-id=SoccerTwos\",\n",
    "        f\"--results-dir={results_dir}\",\n",
    "        \"--resume\",\n",
    "        \"--no-graphics\",\n",
    "        \"--base-port=6005\"\n",
    "    ]\n",
    "    with open(output_log, \"w\") as log_file:\n",
    "        subprocess.Popen(command, stdout=log_file, stderr=subprocess.STDOUT)\n",
    "\n",
    "# Run the mlagents-learn command in a separate thread\n",
    "thread = threading.Thread(target=run_mlagents)\n",
    "thread.start()\n"
   ]
  },
  {
   "cell_type": "code",
   "execution_count": 5,
   "metadata": {},
   "outputs": [
    {
     "name": "stdout",
     "output_type": "stream",
     "text": [
      "The tensorboard extension is already loaded. To reload it, use:\n",
      "  %reload_ext tensorboard\n"
     ]
    },
    {
     "data": {
      "text/plain": [
       "Reusing TensorBoard on port 6006 (pid 1229), started 0:02:32 ago. (Use '!kill 1229' to kill it.)"
      ]
     },
     "metadata": {},
     "output_type": "display_data"
    },
    {
     "data": {
      "text/html": [
       "\n",
       "      <iframe id=\"tensorboard-frame-dede8f0724561e82\" width=\"100%\" height=\"800\" frameborder=\"0\">\n",
       "      </iframe>\n",
       "      <script>\n",
       "        (function() {\n",
       "          const frame = document.getElementById(\"tensorboard-frame-dede8f0724561e82\");\n",
       "          const url = new URL(\"http://localhost\");\n",
       "          const port = 6006;\n",
       "          if (port) {\n",
       "            url.port = port;\n",
       "          }\n",
       "          frame.src = url;\n",
       "        })();\n",
       "      </script>\n",
       "    "
      ],
      "text/plain": [
       "<IPython.core.display.HTML object>"
      ]
     },
     "metadata": {},
     "output_type": "display_data"
    }
   ],
   "source": [
    "# Load TensorBoard extension\n",
    "%load_ext tensorboard\n",
    "\n",
    "# Start TensorBoard within the notebook\n",
    "%tensorboard --logdir /root/hfRL/ml/unit7_colab_mod/HuggingFace/SoccerTwos/results/SoccerTwos --port 6006 --reload_interval 1\n"
   ]
  }
 ],
 "metadata": {
  "kernelspec": {
   "display_name": "rl",
   "language": "python",
   "name": "python3"
  },
  "language_info": {
   "codemirror_mode": {
    "name": "ipython",
    "version": 3
   },
   "file_extension": ".py",
   "mimetype": "text/x-python",
   "name": "python",
   "nbconvert_exporter": "python",
   "pygments_lexer": "ipython3",
   "version": "3.10.12"
  }
 },
 "nbformat": 4,
 "nbformat_minor": 2
}
